{
  "cells": [
    {
      "cell_type": "code",
      "execution_count": null,
      "metadata": {
        "id": "vLT2ihhzj7au"
      },
      "outputs": [],
      "source": [
        "# 최신 ngrok v3 다운로드\n",
        "!wget -q https://bin.equinox.io/c/bNyj1mQVY4c/ngrok-v3-stable-linux-amd64.tgz\n",
        "!tar -xvzf ngrok-v3-stable-linux-amd64.tgz\n",
        "\n",
        "\n",
        "# ngrok 토큰 설정 (한 번만)\n",
        "# 아래 링크에서 본인 토큰 발급: https://dashboard.ngrok.com/get-started/setup\n",
        "!./ngrok authtoken <YOUR_NGROK_TOKEN>\n"
      ]
    },
    {
      "cell_type": "code",
      "source": [
        "!pip install python-Levenshtein\n",
        "!pip install speechrecognition"
      ],
      "metadata": {
        "id": "QyZyLQGR7EZi"
      },
      "execution_count": null,
      "outputs": []
    },
    {
      "cell_type": "code",
      "execution_count": null,
      "metadata": {
        "id": "gvaEUFR8iTPc"
      },
      "outputs": [],
      "source": [
        "from flask import Flask, request\n",
        "import speech_recognition as sr\n",
        "import tempfile\n",
        "import os\n",
        "import threading\n",
        "import subprocess\n",
        "import time\n",
        "import requests\n",
        "import Levenshtein\n",
        "\n",
        "# ==================== 1. Flask 앱 정의 ====================\n",
        "app = Flask(__name__)\n",
        "recognizer = sr.Recognizer()\n",
        "\n",
        "COMMANDS = {\n",
        "    \"전등켜\": \"light_on\", \"전등꺼\": \"light_off\",\n",
        "    \"에어컨켜\": \"ac_on\", \"에어컨꺼\": \"ac_off\",\n",
        "    \"커튼열어\": \"curtain_open\", \"커튼닫아\": \"curtain_close\",\n",
        "    \"티비켜\": \"tv_on\", \"티비꺼\": \"tv_off\", \"다음채널\" : \"tv_channelUP\", \"이전채널\" : \"tv_channelDOWN\",\n",
        "    \"볼륨올려\" : \"tv_volumeUP\", \"볼륨내려\" : \"tv_volumeDOWN\"\n",
        "}\n",
        "\n",
        "# ==================== 2. 명령어 매칭 (유사도 기반) ====================\n",
        "def match_command(text, threshold=3):\n",
        "    text = text.replace(\" \", \"\")  # 예: \"전 등 켜\" → \"전등켜\"\n",
        "    best_match = None\n",
        "    best_score = float('inf')\n",
        "\n",
        "    for command in COMMANDS:\n",
        "        dist = Levenshtein.distance(text, command)\n",
        "        if dist < best_score and dist <= threshold:\n",
        "            best_match = command\n",
        "            best_score = dist\n",
        "\n",
        "    return COMMANDS.get(best_match, None)\n",
        "\n",
        "# ==================== 3. /infer 엔드포인트 (단순 텍스트 응답) ====================\n",
        "@app.route('/infer', methods=['POST'])\n",
        "def infer():\n",
        "    if 'audio' not in request.files:\n",
        "        return \"ERROR|No audio file uploaded\", 400\n",
        "\n",
        "    file = request.files['audio']\n",
        "    with tempfile.NamedTemporaryFile(delete=False, suffix=\".wav\") as tmp:\n",
        "        file.save(tmp.name)\n",
        "        tmp_path = tmp.name\n",
        "\n",
        "    try:\n",
        "        with sr.AudioFile(tmp_path) as source:\n",
        "            audio = recognizer.record(source)\n",
        "\n",
        "        recognized_text = recognizer.recognize_google(audio, language=\"ko-KR\").strip()\n",
        "        action = match_command(recognized_text) or \"none\"\n",
        "\n",
        "        # 단순 텍스트 응답: \"인식텍스트|액션\"\n",
        "        return f\"{recognized_text}|{action}\"\n",
        "\n",
        "    except sr.UnknownValueError:\n",
        "        return \"ERROR|STT 인식 실패: 무음 또는 잡음\", 400\n",
        "    except Exception as e:\n",
        "        return f\"ERROR|{str(e)}\", 500\n",
        "    finally:\n",
        "        if os.path.exists(tmp_path):\n",
        "            os.remove(tmp_path)\n",
        "\n",
        "# ==================== 4. Flask 서버 실행 (스레드) ====================\n",
        "def run_flask():\n",
        "    app.run(host=\"0.0.0.0\", port=5000)\n",
        "\n",
        "threading.Thread(target=run_flask).start()\n",
        "\n",
        "# ==================== 5. ngrok 실행 ====================\n",
        "time.sleep(2)\n",
        "ngrok_process = subprocess.Popen([\"./ngrok\", \"http\", \"5000\"])\n",
        "time.sleep(3)\n",
        "\n",
        "# ==================== 6. ngrok 주소 얻기 ====================\n",
        "def get_ngrok_url():\n",
        "    try:\n",
        "        resp = requests.get(\"http://localhost:4040/api/tunnels\")\n",
        "        return resp.json()['tunnels'][0]['public_url']\n",
        "    except Exception as e:\n",
        "        print(\"❌ ngrok URL 가져오기 실패:\", e)\n",
        "        return None\n",
        "\n",
        "url = get_ngrok_url()\n",
        "print(\"🔗 Colab 서버 주소:\", url)\n",
        "\n",
        "# ==================== 7. 무한 루프로 셀 유지 ====================\n",
        "while True:\n",
        "    time.sleep(1)"
      ]
    }
  ],
  "metadata": {
    "colab": {
      "provenance": []
    },
    "kernelspec": {
      "display_name": "Python 3",
      "name": "python3"
    },
    "language_info": {
      "name": "python"
    }
  },
  "nbformat": 4,
  "nbformat_minor": 0
}